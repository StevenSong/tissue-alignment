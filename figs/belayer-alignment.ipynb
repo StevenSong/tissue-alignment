{
 "cells": [
  {
   "cell_type": "code",
   "execution_count": 1,
   "metadata": {},
   "outputs": [],
   "source": [
    "import os\n",
    "import sys\n",
    "import numpy as np\n",
    "import pandas as pd\n",
    "\n",
    "sys.path.append('/mnt/data1/spatial/tissue-alignment/traversal')\n",
    "from io_utils import read_image, read_spatial_data\n",
    "\n",
    "%matplotlib inline\n",
    "\n",
    "section_path = f'/mnt/data1/spatial/data/colon/UC/B'"
   ]
  },
  {
   "cell_type": "code",
   "execution_count": 2,
   "metadata": {},
   "outputs": [],
   "source": [
    "fullres = False\n",
    "im = read_image(section_path, fullres)\n",
    "pos_df, spot_radius = read_spatial_data(section_path, fullres)"
   ]
  },
  {
   "cell_type": "code",
   "execution_count": 3,
   "metadata": {},
   "outputs": [],
   "source": [
    "sys.path.append('/mnt/data1/spatial/belayer/src')\n",
    "from utils_IO import *\n",
    "\n",
    "from harmonic import *\n",
    "from region_cost_fun import *\n",
    "from dprelated import *\n",
    "from dp_post_processing import *\n",
    "from general_helper_funcs import *\n",
    "from precompute_likelihood import *\n",
    "from dp_linear_boundary import *\n",
    "from slideseq_helpers import *"
   ]
  },
  {
   "cell_type": "code",
   "execution_count": 4,
   "metadata": {},
   "outputs": [],
   "source": [
    "# input_10x_folder='151673'\n",
    "count, coords, barcodes, gene_labels = read_input_10xdirectory(section_path)\n",
    "\n",
    "G, N=count.shape\n",
    "\n",
    "# fill in gaps in 10x hexagonal grid\n",
    "fullpoints, in_tissue = fill_geometry(coords, is_hexagon=True)\n",
    "\n",
    "# get boundary points\n",
    "boundary_idx_file='colon-UC-B-boundaries.npy'\n",
    "bounds = np.load(boundary_idx_file, allow_pickle=True)\n",
    "new_bounds = []\n",
    "for b in bounds:\n",
    "    new_bounds.append(pos_df.loc[b, ['row', 'col']].to_numpy())\n",
    "new_bounds = np.asarray(new_bounds, dtype=object)\n",
    "boundary_file = 'colon-UC-B-boundaries-coords.npy'\n",
    "np.save(boundary_file, new_bounds)\n",
    "boundary_list = read_boundary_list(boundary_file, fullpoints)"
   ]
  },
  {
   "cell_type": "code",
   "execution_count": 5,
   "metadata": {},
   "outputs": [],
   "source": [
    "spos = spatialcoord(x = fullpoints[:,0], y = fullpoints[:,1])\n",
    "har = harmonic(fullpoints, spos.adjacency_mat, np.sqrt(spos.pairwise_squared_dist))\n",
    "\n",
    "interpolation = har.interpolation_using_list( boundary_list )\n",
    "depth = interpolation[in_tissue]"
   ]
  },
  {
   "cell_type": "code",
   "execution_count": 6,
   "metadata": {},
   "outputs": [],
   "source": [
    "pos_df.loc[pos_df['barcode'].argsort(), 'depth'] = depth"
   ]
  },
  {
   "cell_type": "code",
   "execution_count": 7,
   "metadata": {},
   "outputs": [],
   "source": [
    "pos_df['depth2'] = pos_df['depth'].round().astype(int)\n",
    "pos_df['depth2'] = pos_df['depth2'] - pos_df['depth2'].min() # make min 0"
   ]
  },
  {
   "cell_type": "code",
   "execution_count": 8,
   "metadata": {},
   "outputs": [],
   "source": [
    "assert not (pos_df['depth2'].value_counts() == 0).any()"
   ]
  },
  {
   "cell_type": "code",
   "execution_count": 9,
   "metadata": {},
   "outputs": [
    {
     "data": {
      "application/vnd.jupyter.widget-view+json": {
       "model_id": "32e3c4e85f9f458f8fc11ac25b4d34a6",
       "version_major": 2,
       "version_minor": 0
      },
      "text/plain": [
       "QUEUEING TASKS | :   0%|          | 0/164 [00:00<?, ?it/s]"
      ]
     },
     "metadata": {},
     "output_type": "display_data"
    },
    {
     "data": {
      "application/vnd.jupyter.widget-view+json": {
       "model_id": "4c3e7bd9f795414e8e8b2cb56bb8f0e6",
       "version_major": 2,
       "version_minor": 0
      },
      "text/plain": [
       "PROCESSING TASKS | :   0%|          | 0/164 [00:00<?, ?it/s]"
      ]
     },
     "metadata": {},
     "output_type": "display_data"
    },
    {
     "data": {
      "application/vnd.jupyter.widget-view+json": {
       "model_id": "730e8598583f441590f541a4c662ae6d",
       "version_major": 2,
       "version_minor": 0
      },
      "text/plain": [
       "COLLECTING RESULTS | :   0%|          | 0/164 [00:00<?, ?it/s]"
      ]
     },
     "metadata": {},
     "output_type": "display_data"
    }
   ],
   "source": [
    "from graph import compute_path_counts\n",
    "from io_utils import read_transcription_data\n",
    "\n",
    "counts = read_transcription_data(section_path)\n",
    "\n",
    "dummy_path_idxs = [-1] * (pos_df['depth2'].max() + 1) # assumes there are no gaps in depth2, see prior assert\n",
    "mean_counts, std_counts = compute_path_counts(\n",
    "    pos_df=pos_df,\n",
    "    counts=counts,\n",
    "    path_idxs=dummy_path_idxs,\n",
    "    clusters=pos_df['depth2'],\n",
    ")"
   ]
  },
  {
   "cell_type": "code",
   "execution_count": 10,
   "metadata": {},
   "outputs": [],
   "source": [
    "mean_counts.to_csv('belayer_uc_counts.csv', index=False)"
   ]
  },
  {
   "cell_type": "code",
   "execution_count": 11,
   "metadata": {},
   "outputs": [],
   "source": [
    "pos_df[['depth', 'depth2']].to_csv('belayer_uc_depths.csv', index=False)"
   ]
  },
  {
   "cell_type": "code",
   "execution_count": 12,
   "metadata": {},
   "outputs": [],
   "source": [
    "normalized_length = 101\n",
    "\n",
    "xp = np.linspace(0, 1, len(mean_counts))\n",
    "_mean_counts = mean_counts.dropna(axis=0)\n",
    "xp = xp[_mean_counts.index.to_numpy()]\n",
    "x = np.linspace(0, 1, normalized_length)\n",
    "out = []\n",
    "for i in range(_mean_counts.shape[1]):\n",
    "    interp = np.interp(x, xp, _mean_counts.iloc[:, i].to_numpy())\n",
    "    out.append(interp)\n",
    "path_normalized_counts = pd.DataFrame(np.asarray(out).T, columns=mean_counts.columns)\n",
    "path_normalized_counts.to_csv(f'belayer_uc_normalized_path_counts.csv', index=False)"
   ]
  },
  {
   "cell_type": "code",
   "execution_count": null,
   "metadata": {},
   "outputs": [],
   "source": []
  }
 ],
 "metadata": {
  "kernelspec": {
   "display_name": "spatial",
   "language": "python",
   "name": "python3"
  },
  "language_info": {
   "codemirror_mode": {
    "name": "ipython",
    "version": 3
   },
   "file_extension": ".py",
   "mimetype": "text/x-python",
   "name": "python",
   "nbconvert_exporter": "python",
   "pygments_lexer": "ipython3",
   "version": "3.11.4"
  }
 },
 "nbformat": 4,
 "nbformat_minor": 2
}
