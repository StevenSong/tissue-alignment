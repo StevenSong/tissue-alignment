{
 "cells": [
  {
   "cell_type": "code",
   "execution_count": 1,
   "metadata": {},
   "outputs": [],
   "source": [
    "import os\n",
    "import sys\n",
    "import numpy as np\n",
    "import pandas as pd\n",
    "\n",
    "sys.path.append('/mnt/data1/spatial/tissue-alignment/traversal')\n",
    "from io_utils import read_image, read_spatial_data\n",
    "\n",
    "%matplotlib inline\n",
    "\n",
    "dz = 'UC'\n",
    "section = 'B'\n",
    "section_path = f'/mnt/data1/spatial/data/colon/{dz}/{section}'\n",
    "belayer_path = f'colon/colon-{dz}-{section}-belayer.csv'\n",
    "out_count_csv = f'belayer_{dz}_{section}_counts.csv'\n",
    "out_depth_csv = f'belayer_{dz}_{section}_depths.csv'\n",
    "out_norm_count_csv = f'belayer_{dz}_{section}_normalized_path_counts.csv'"
   ]
  },
  {
   "cell_type": "code",
   "execution_count": 2,
   "metadata": {},
   "outputs": [],
   "source": [
    "fullres = False\n",
    "im = read_image(section_path, fullres)\n",
    "pos_df, spot_radius = read_spatial_data(section_path, fullres)"
   ]
  },
  {
   "cell_type": "code",
   "execution_count": 3,
   "metadata": {},
   "outputs": [],
   "source": [
    "belayer = pd.read_csv(belayer_path)\n",
    "pos_df['depth2'] = belayer['depth2']"
   ]
  },
  {
   "cell_type": "code",
   "execution_count": 4,
   "metadata": {},
   "outputs": [
    {
     "data": {
      "application/vnd.jupyter.widget-view+json": {
       "model_id": "ef7617e930244798ad5357d644912c86",
       "version_major": 2,
       "version_minor": 0
      },
      "text/plain": [
       "QUEUEING TASKS | :   0%|          | 0/173 [00:00<?, ?it/s]"
      ]
     },
     "metadata": {},
     "output_type": "display_data"
    },
    {
     "data": {
      "application/vnd.jupyter.widget-view+json": {
       "model_id": "09913daca08c4bb585e8a54160187b22",
       "version_major": 2,
       "version_minor": 0
      },
      "text/plain": [
       "PROCESSING TASKS | :   0%|          | 0/173 [00:00<?, ?it/s]"
      ]
     },
     "metadata": {},
     "output_type": "display_data"
    },
    {
     "data": {
      "application/vnd.jupyter.widget-view+json": {
       "model_id": "d11b383b537145c6bec2ac49695b1e46",
       "version_major": 2,
       "version_minor": 0
      },
      "text/plain": [
       "COLLECTING RESULTS | :   0%|          | 0/173 [00:00<?, ?it/s]"
      ]
     },
     "metadata": {},
     "output_type": "display_data"
    }
   ],
   "source": [
    "from graph import compute_path_counts\n",
    "from io_utils import read_transcription_data\n",
    "\n",
    "counts = read_transcription_data(section_path)\n",
    "\n",
    "dummy_path_idxs = [-1] * (pos_df['depth2'].max() + 1) # assumes there are no gaps in depth2, see prior assert\n",
    "mean_counts, std_counts = compute_path_counts(\n",
    "    pos_df=pos_df,\n",
    "    counts=counts,\n",
    "    path_idxs=dummy_path_idxs,\n",
    "    clusters=pos_df['depth2'],\n",
    ")"
   ]
  },
  {
   "cell_type": "code",
   "execution_count": 5,
   "metadata": {},
   "outputs": [],
   "source": [
    "mean_counts.to_csv(out_count_csv, index=False)"
   ]
  },
  {
   "cell_type": "code",
   "execution_count": 6,
   "metadata": {},
   "outputs": [],
   "source": [
    "normalized_length = 101\n",
    "\n",
    "xp = np.linspace(0, 1, len(mean_counts))\n",
    "_mean_counts = mean_counts.dropna(axis=0)\n",
    "xp = xp[_mean_counts.index.to_numpy()]\n",
    "x = np.linspace(0, 1, normalized_length)\n",
    "out = []\n",
    "for i in range(_mean_counts.shape[1]):\n",
    "    interp = np.interp(x, xp, _mean_counts.iloc[:, i].to_numpy())\n",
    "    out.append(interp)\n",
    "path_normalized_counts = pd.DataFrame(np.asarray(out).T, columns=mean_counts.columns)\n",
    "path_normalized_counts.to_csv(out_norm_count_csv, index=False)"
   ]
  },
  {
   "cell_type": "code",
   "execution_count": null,
   "metadata": {},
   "outputs": [],
   "source": []
  }
 ],
 "metadata": {
  "kernelspec": {
   "display_name": "spatial",
   "language": "python",
   "name": "python3"
  },
  "language_info": {
   "codemirror_mode": {
    "name": "ipython",
    "version": 3
   },
   "file_extension": ".py",
   "mimetype": "text/x-python",
   "name": "python",
   "nbconvert_exporter": "python",
   "pygments_lexer": "ipython3",
   "version": "3.11.6"
  }
 },
 "nbformat": 4,
 "nbformat_minor": 2
}
