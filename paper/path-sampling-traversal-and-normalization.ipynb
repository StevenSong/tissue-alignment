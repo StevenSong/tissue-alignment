{
 "cells": [
  {
   "cell_type": "code",
   "execution_count": 1,
   "metadata": {},
   "outputs": [],
   "source": [
    "import os\n",
    "import sys\n",
    "import numpy as np\n",
    "import pandas as pd\n",
    "\n",
    "sys.path.append('/mnt/data1/spatial/tissue-alignment/traversal')\n",
    "from io_utils import read_image, read_spatial_data, read_transcription_data, read_embedding_data\n",
    "from graph import compute_distance_matrix, compute_path_idxs, compute_clusters, compute_path_counts\n",
    "\n",
    "%matplotlib inline"
   ]
  },
  {
   "cell_type": "code",
   "execution_count": 2,
   "metadata": {},
   "outputs": [],
   "source": [
    "section_path = '/mnt/data1/spatial/data/colon/UC/B'\n",
    "fullres = False\n",
    "im = read_image(section_path, fullres)\n",
    "pos_df, spot_radius = read_spatial_data(section_path, fullres)"
   ]
  },
  {
   "cell_type": "markdown",
   "metadata": {},
   "source": [
    "## Path Sampling"
   ]
  },
  {
   "cell_type": "code",
   "execution_count": 3,
   "metadata": {},
   "outputs": [],
   "source": [
    "bounds = np.load('colon-UC-B-boundaries.npy', allow_pickle=True)"
   ]
  },
  {
   "cell_type": "code",
   "execution_count": 4,
   "metadata": {},
   "outputs": [],
   "source": [
    "aa = set(bounds[0])\n",
    "bb = set(bounds[-1])\n",
    "aa_list = pos_df.loc[list(aa)].sort_values('y').index.tolist()\n",
    "bb_list = pos_df.loc[list(bb)].sort_values('y').index.tolist()"
   ]
  },
  {
   "cell_type": "code",
   "execution_count": 5,
   "metadata": {},
   "outputs": [],
   "source": [
    "pairs = []\n",
    "radius = 15\n",
    "for i, a in enumerate(aa_list):\n",
    "    for b in bb_list[max(i-radius, 0) : min(i+radius+1, len(bb_list))]:\n",
    "        pairs.append((a, b))\n",
    "all_combos = pd.DataFrame(np.asarray(pairs), columns=['start', 'end'])\n",
    "all_combos.to_csv('path_combos_all.csv', index=False)"
   ]
  },
  {
   "cell_type": "code",
   "execution_count": 6,
   "metadata": {},
   "outputs": [],
   "source": [
    "n = 99\n",
    "combos = all_combos.sample(n=n, random_state=42).reset_index(drop=True)\n",
    "# make sure the start and end from fig 2 NOT included before we add it\n",
    "assert (~((combos['start'] == 241) & (combos['end'] == 3601))).all()\n",
    "combos.loc[n] = [241, 3601]\n",
    "combos.to_csv('path_combos_sampled.csv', index=False)"
   ]
  },
  {
   "cell_type": "markdown",
   "metadata": {},
   "source": [
    "## Traversal and Length Normalization"
   ]
  },
  {
   "cell_type": "code",
   "execution_count": null,
   "metadata": {},
   "outputs": [],
   "source": [
    "model = 'triplet-gi-0999'\n",
    "embeds = read_embedding_data(section_path, model)\n",
    "counts = read_transcription_data(section_path)\n",
    "\n",
    "dists, hex = compute_distance_matrix(embeds, pos_df)\n",
    "\n",
    "normalized_length = 101\n",
    "\n",
    "from tqdm import tqdm\n",
    "\n",
    "for start, end in tqdm(combos.to_numpy(), desc='COMBOS'):\n",
    "    output_dir = f'sampled_paths/{start}-{end}'\n",
    "    os.makedirs(output_dir, exist_ok=True)\n",
    "    uc_path_idxs = compute_path_idxs(dists, hex, start, end)\n",
    "    uc_clusters = compute_clusters(embeds, embeds[uc_path_idxs])\n",
    "    uc_path_counts, _ = compute_path_counts(pos_df, counts, uc_path_idxs, uc_clusters, parallel=40)\n",
    "    uc_path_counts.to_csv(f'{output_dir}/path_counts.csv', index=False)\n",
    "    xp = np.linspace(0, 1, len(uc_path_idxs))\n",
    "    x = np.linspace(0, 1, normalized_length)\n",
    "    out = []\n",
    "    for i in tqdm(range(uc_path_counts.shape[1])):\n",
    "        interp = np.interp(x, xp, uc_path_counts.iloc[:, i].to_numpy())\n",
    "        out.append(interp)\n",
    "    normalized_path_counts = pd.DataFrame(np.asarray(out).T, columns=counts.columns)\n",
    "    normalized_path_counts.to_csv(f'{output_dir}/normalized_path_counts.csv', index=False)\n"
   ]
  },
  {
   "cell_type": "code",
   "execution_count": null,
   "metadata": {},
   "outputs": [],
   "source": []
  }
 ],
 "metadata": {
  "kernelspec": {
   "display_name": "spatial",
   "language": "python",
   "name": "python3"
  },
  "language_info": {
   "codemirror_mode": {
    "name": "ipython",
    "version": 3
   },
   "file_extension": ".py",
   "mimetype": "text/x-python",
   "name": "python",
   "nbconvert_exporter": "python",
   "pygments_lexer": "ipython3",
   "version": "3.11.4"
  }
 },
 "nbformat": 4,
 "nbformat_minor": 2
}
