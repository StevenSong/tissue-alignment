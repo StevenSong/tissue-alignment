{
 "cells": [
  {
   "cell_type": "code",
   "execution_count": 1,
   "metadata": {},
   "outputs": [],
   "source": [
    "import os\n",
    "import sys\n",
    "import json\n",
    "import numpy as np\n",
    "import pandas as pd\n",
    "from collections import defaultdict\n",
    "from tqdm import tqdm\n",
    "\n",
    "import torch\n",
    "import torchvision.transforms as T\n",
    "from torch.utils.data import DataLoader\n",
    "\n",
    "sys.path.append('./src')\n",
    "from dataloaders import TileDataset\n",
    "from models import SimSiam, Triplet\n",
    "\n",
    "import os\n",
    "os.environ['CUDA_VISIBLE_DEVICES']='1'"
   ]
  },
  {
   "cell_type": "code",
   "execution_count": 2,
   "metadata": {},
   "outputs": [],
   "source": [
    "# model_name = 'simsiam-all-slides'\n",
    "# epoch = '0999'\n",
    "# mpath = f'/mnt/data5/spatial/runs/{model_name}/checkpoints/{epoch}.pt'\n",
    "# chkpt = torch.load(mpath)\n",
    "\n",
    "# model = SimSiam(\n",
    "#     backbone='resnet50',\n",
    "#     projector_hidden_dim=2048,\n",
    "#     predictor_hidden_dim=512,\n",
    "#     output_dim=2048,\n",
    "# )"
   ]
  },
  {
   "cell_type": "code",
   "execution_count": 3,
   "metadata": {},
   "outputs": [],
   "source": [
    "model_name = 'triplet-gi'\n",
    "epoch = '0999'\n",
    "mpath = f'/mnt/data5/spatial/runs/{model_name}/checkpoints/{epoch}.pt'\n",
    "chkpt = torch.load(mpath)\n",
    "\n",
    "model = Triplet(\n",
    "    backbone='resnet50',\n",
    "    projector_hidden_dim=2048,\n",
    "    output_dim=2048,\n",
    ")"
   ]
  },
  {
   "cell_type": "code",
   "execution_count": 4,
   "metadata": {},
   "outputs": [],
   "source": [
    "model.load_state_dict(chkpt['state_dict'])\n",
    "model.to('cuda')\n",
    "model.eval()\n",
    "None"
   ]
  },
  {
   "cell_type": "code",
   "execution_count": 5,
   "metadata": {},
   "outputs": [],
   "source": [
    "tile_dirs=[\n",
    "    '/mnt/data5/spatial/data/colon/CD/A/tiles',\n",
    "    '/mnt/data5/spatial/data/colon/CD/B/tiles',\n",
    "    '/mnt/data5/spatial/data/colon/CD/C/tiles',\n",
    "    '/mnt/data5/spatial/data/colon/CD/D/tiles',\n",
    "    '/mnt/data5/spatial/data/colon/UC/A/tiles',\n",
    "    '/mnt/data5/spatial/data/colon/UC/B/tiles',\n",
    "    '/mnt/data5/spatial/data/colon/UC/C/tiles',\n",
    "    '/mnt/data5/spatial/data/colon/UC/D/tiles',\n",
    "    '/mnt/data5/spatial/data/colon/normal/A/tiles',\n",
    "    '/mnt/data5/spatial/data/colon/C.diff/A/tiles',\n",
    "    '/mnt/data5/spatial/data/colon/C.diff/B/tiles',\n",
    "    '/mnt/data5/spatial/data/colon/C.diff/C/tiles',\n",
    "    '/mnt/data5/spatial/data/stomach/normal/A/tiles',\n",
    "    '/mnt/data5/spatial/data/stomach/H.pylori/A/tiles',\n",
    "    '/mnt/data5/spatial/data/stomach/H.pylori/B/tiles',\n",
    "    '/mnt/data5/spatial/data/stomach/H.pylori/C/tiles',\n",
    "]"
   ]
  },
  {
   "cell_type": "code",
   "execution_count": 6,
   "metadata": {},
   "outputs": [
    {
     "name": "stderr",
     "output_type": "stream",
     "text": [
      "Computing Train Dataset Norm: 100%|██████████| 36896/36896 [00:34<00:00, 1077.99it/s]\n"
     ]
    }
   ],
   "source": [
    "ds = TileDataset(\n",
    "    name='train',\n",
    "    tile_dirs=tile_dirs,\n",
    ")\n",
    "mean, std = ds.get_mean_std()\n",
    "norm = T.Normalize(mean=mean, std=std)"
   ]
  },
  {
   "cell_type": "code",
   "execution_count": 7,
   "metadata": {},
   "outputs": [
    {
     "name": "stderr",
     "output_type": "stream",
     "text": [
      "  0%|          | 0/15 [00:00<?, ?it/s]"
     ]
    },
    {
     "name": "stderr",
     "output_type": "stream",
     "text": [
      "100%|██████████| 15/15 [00:05<00:00,  2.79it/s]\n",
      "100%|██████████| 11/11 [00:02<00:00,  4.23it/s]\n",
      "100%|██████████| 17/17 [00:03<00:00,  4.38it/s]\n",
      "100%|██████████| 13/13 [00:02<00:00,  4.34it/s]\n",
      "100%|██████████| 13/13 [00:03<00:00,  3.97it/s]\n",
      "100%|██████████| 15/15 [00:03<00:00,  4.36it/s]\n",
      "100%|██████████| 15/15 [00:03<00:00,  4.10it/s]\n",
      "100%|██████████| 14/14 [00:03<00:00,  4.37it/s]\n",
      "100%|██████████| 3/3 [00:00<00:00,  3.99it/s]\n",
      "100%|██████████| 3/3 [00:00<00:00,  4.71it/s]\n",
      "100%|██████████| 12/12 [00:02<00:00,  4.44it/s]\n",
      "100%|██████████| 9/9 [00:02<00:00,  4.40it/s]\n",
      "100%|██████████| 3/3 [00:00<00:00,  4.68it/s]\n",
      "100%|██████████| 4/4 [00:00<00:00,  4.67it/s]\n",
      "100%|██████████| 3/3 [00:00<00:00,  3.65it/s]\n",
      "100%|██████████| 4/4 [00:00<00:00,  4.70it/s]\n"
     ]
    }
   ],
   "source": [
    "count = 0\n",
    "for tile_dir in tile_dirs:\n",
    "    section_dir = tile_dir[:-5]\n",
    "    ppath = os.path.join(section_dir, 'outs/spatial/tissue_positions_list.csv')\n",
    "    cols = [\n",
    "        \"barcode\",\n",
    "        \"in_tissue\",\n",
    "        \"array_row\",\n",
    "        \"array_col\",\n",
    "        \"pxl_row_in_fullres\",\n",
    "        \"pxl_col_in_fullres\",\n",
    "    ]\n",
    "    pos_df = pd.read_csv(\n",
    "        ppath,\n",
    "        header=None,\n",
    "        names=cols,\n",
    "    )\n",
    "    pos_df = pos_df[pos_df['in_tissue'] == 1].reset_index(drop=True)\n",
    "    count += len(pos_df)\n",
    "\n",
    "    eval_ds = TileDataset(\n",
    "        name='eval',\n",
    "        tile_dirs=[tile_dir],\n",
    "        transform=lambda ds, idx, x: norm(x),\n",
    "    )\n",
    "\n",
    "    # use the ordering of the tiles in the metadata\n",
    "    new_tile_paths = tile_dir + '/' + pos_df['barcode'] + '.png'\n",
    "    ntps = new_tile_paths.sort_values().reset_index(drop=True)\n",
    "    otps = pd.Series(eval_ds.tile_paths).sort_values().reset_index(drop=True)\n",
    "    # check that actual tiles match metadata\n",
    "    assert ntps.equals(otps)\n",
    "    eval_ds.tile_paths = new_tile_paths\n",
    "\n",
    "    eval_dl = DataLoader(\n",
    "        eval_ds,\n",
    "        batch_size=256,\n",
    "        shuffle=False,\n",
    "        num_workers=0,\n",
    "        pin_memory=True,\n",
    "    )\n",
    "    embeddings = []\n",
    "    for eval_step, tiles in enumerate(tqdm(eval_dl)):\n",
    "        tiles = tiles.to('cuda')\n",
    "        with torch.no_grad():\n",
    "            embedding = model.encoder(tiles).to('cpu')\n",
    "            embeddings.append(embedding)\n",
    "    embeddings = torch.concatenate(embeddings, axis=0)\n",
    "\n",
    "    embedding_dir = os.path.join(section_dir, 'embeddings')\n",
    "    os.makedirs(embedding_dir, exist_ok=True)\n",
    "    torch.save(embeddings, os.path.join(embedding_dir, f'{model_name}-{epoch}.pt'))\n",
    "\n",
    "assert count == len(ds.tile_paths)"
   ]
  },
  {
   "cell_type": "code",
   "execution_count": null,
   "metadata": {},
   "outputs": [],
   "source": []
  }
 ],
 "metadata": {
  "kernelspec": {
   "display_name": "spatial",
   "language": "python",
   "name": "python3"
  },
  "language_info": {
   "codemirror_mode": {
    "name": "ipython",
    "version": 3
   },
   "file_extension": ".py",
   "mimetype": "text/x-python",
   "name": "python",
   "nbconvert_exporter": "python",
   "pygments_lexer": "ipython3",
   "version": "3.11.4"
  },
  "orig_nbformat": 4
 },
 "nbformat": 4,
 "nbformat_minor": 2
}
